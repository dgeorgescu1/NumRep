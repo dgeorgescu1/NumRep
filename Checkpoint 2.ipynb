{
 "cells": [
  {
   "cell_type": "markdown",
   "id": "under-lemon",
   "metadata": {
    "deletable": false,
    "editable": false,
    "nbgrader": {
     "cell_type": "markdown",
     "checksum": "4c58f72587d434b02e00366b8384ce56",
     "grade": false,
     "grade_id": "cell-179ae794a185f8b3",
     "locked": true,
     "schema_version": 3,
     "solution": false,
     "task": false
    }
   },
   "source": [
    "# Checkpoint 2\n",
    "### Due: Tuesday, 8 November, 2022 at 11:00am BST\n",
    "\n",
    "### Total points: 100\n",
    "\n",
    "### Read This First\n",
    "\n",
    "Wherever you see raise NotImplementedError(), remove that line and put your code there.\n",
    "\n",
    "Put the code that produces the output for a given task in the cell indicated. You are welcome to add as many cells as you like for imports, function definitions, variables, etc.\n",
    "\n",
    "Your notebook must run correctly when executed once from start to finish. Your notebook will be graded based on how it runs, not how it looks when you submit it. To test this, go to the Kernel menu and select Restart & Run All.\n",
    "\n",
    "Once you are happy with it, clear the output by selecting Restart & Clear Output from the Kernel menu.\n",
    "\n",
    "You should aim for your code to not take more than around a minute per task. \n",
    "\n",
    "Submit through Noteable."
   ]
  },
  {
   "cell_type": "markdown",
   "id": "operational-maryland",
   "metadata": {
    "deletable": false,
    "editable": false,
    "nbgrader": {
     "cell_type": "markdown",
     "checksum": "4e06c591d3152ba76fa2ab17fb95d972",
     "grade": false,
     "grade_id": "cell-0b6698cfafd847dc",
     "locked": true,
     "schema_version": 3,
     "solution": false,
     "task": false
    }
   },
   "source": [
    "# Task 1 (20 points)\n",
    "\n",
    "The first task is to find the number of local minima of the function. \n",
    "The function is defined in any number of dimensions. \n",
    "\n",
    "And your job is to function the number of local minimima of the function for dimensions 1, 2 3, 4, 5. Your code should return the list or array of 5 integer values.\n",
    "\n",
    "The number of local minima for ndim = 1 should be 4. All the minimima should be within -10..10 range\n",
    "\n",
    "We also know that the function has no minima separated by less than 0.01."
   ]
  },
  {
   "cell_type": "code",
   "execution_count": 1,
   "id": "false-impression",
   "metadata": {
    "deletable": false,
    "editable": false,
    "nbgrader": {
     "cell_type": "code",
     "checksum": "71ceefbe23bc6efc70ff431aaa3279c8",
     "grade": false,
     "grade_id": "cell-193fa5b6b82a2a35",
     "locked": true,
     "schema_version": 3,
     "solution": false,
     "task": false
    }
   },
   "outputs": [],
   "source": [
    "import numpy as np\n",
    "import scipy.optimize\n",
    "import scipy.linalg\n",
    "import matplotlib.pyplot as plt\n",
    "import scipy.stats\n",
    "%matplotlib inline"
   ]
  },
  {
   "cell_type": "code",
   "execution_count": 2,
   "id": "371eb9b0",
   "metadata": {},
   "outputs": [],
   "source": [
    "import scipy.optimize as scopt"
   ]
  },
  {
   "cell_type": "code",
   "execution_count": 3,
   "id": "convinced-career",
   "metadata": {
    "deletable": false,
    "editable": false,
    "nbgrader": {
     "cell_type": "code",
     "checksum": "96106c20af19917c9486078842eb9bd9",
     "grade": false,
     "grade_id": "cell-aa6033a13e16d38b",
     "locked": true,
     "schema_version": 3,
     "solution": false,
     "task": false
    }
   },
   "outputs": [
    {
     "name": "stdout",
     "output_type": "stream",
     "text": [
      "-1.5339371748888972\n",
      "155.5936341672975\n",
      "80.92394156884913\n"
     ]
    }
   ],
   "source": [
    "T1_D = np.load('ch2_task1.npz')['D']\n",
    "dims = [1, 2, 3, 4, 5]\n",
    "import scipy.special as ssp\n",
    "\n",
    "def blackbox_func(p):\n",
    "    \"\"\"\n",
    "    This is is the function that you need to optimize\n",
    "    DO NOT CHANGE THE CODE INSIDE THIS FUNCTION\n",
    "    \"\"\"\n",
    "    p = np.asarray(p)\n",
    "    ndim = len(p)\n",
    "    pos = dims.index(ndim)\n",
    "    curD = T1_D[10000 * pos:10000 * (pos + 1), :ndim]\n",
    "    return -ssp.logsumexp(np.sum(-0.5 * ((p[None, :] - curD) / .3)**2, axis=1))\n",
    "\n",
    "# The function is defined in  1,2,3,4,5 dimensions\n",
    "print (blackbox_func([0]))\n",
    "print (blackbox_func([0,0]))\n",
    "print (blackbox_func([0,0,0]))\n"
   ]
  },
  {
   "cell_type": "code",
   "execution_count": 4,
   "id": "d5391de4",
   "metadata": {
    "deletable": false,
    "nbgrader": {
     "cell_type": "code",
     "checksum": "66b6bb7a10f6b823d09463d05b67287d",
     "grade": true,
     "grade_id": "cell-4d36c746588f1de8",
     "locked": false,
     "points": 0,
     "schema_version": 3,
     "solution": true,
     "task": false
    }
   },
   "outputs": [],
   "source": [
    "def find_nminima():\n",
    "    \n",
    "    \"\"\"\n",
    "    \n",
    "    This function calculates the number of local minima of the blackbox function for dimensions 1 to 5. It does this by\n",
    "    using the Nelder-Mead optimizer with random initial guesses N times and storing the local minima. Repeats are then \n",
    "    removed using the np.unique function to find the number of unique local minima. \n",
    "    \n",
    "    Returns:\n",
    "    \n",
    "    list with the number of local minima of blackbox function for dimensions 1 to 5\n",
    "    \n",
    "    \"\"\"\n",
    "    n_minima = []\n",
    "    \n",
    "    for n in range(1,6):\n",
    "    \n",
    "        minima = np.array([np.ones(n)*11])\n",
    "        \n",
    "        N = 50\n",
    "        \n",
    "        for i in range(N):\n",
    "            \n",
    "            #Rounds the values to 2 decimal places as we know that the minima are at separated by at least 0.01 \n",
    "            res = np.around(scopt.minimize(blackbox_func, np.random.uniform(-10,10, n), method='Nelder-Mead', tol = 1e-5).x, 2)\n",
    "            res_array = np.array([res])\n",
    "            minima = np.append(minima, res_array, axis = 0)\n",
    "    \n",
    "        minima = np.unique(minima, axis = 0)\n",
    "        n_minima.append(len(minima) - 1)\n",
    "    \n",
    "    \n",
    "    return n_minima"
   ]
  },
  {
   "cell_type": "code",
   "execution_count": 5,
   "id": "128ed18a",
   "metadata": {
    "deletable": false,
    "editable": false,
    "nbgrader": {
     "cell_type": "code",
     "checksum": "23a71409899f0561a2d937cc6df6b51f",
     "grade": true,
     "grade_id": "cell-306cce0c0780fe5a",
     "locked": true,
     "points": 0,
     "schema_version": 3,
     "solution": false,
     "task": false
    }
   },
   "outputs": [],
   "source": [
    "my_minima = find_nminima()\n",
    "assert len(my_minima) == 5\n",
    "assert (my_minima[0]) == 4\n"
   ]
  },
  {
   "cell_type": "markdown",
   "id": "1f9c9452",
   "metadata": {
    "deletable": false,
    "editable": false,
    "nbgrader": {
     "cell_type": "markdown",
     "checksum": "8cb8104f89acfc8d86a8033274b0d6f5",
     "grade": false,
     "grade_id": "cell-9ffb52dbaa1b00f3",
     "locked": true,
     "schema_version": 3,
     "solution": false,
     "task": false
    }
   },
   "source": [
    "# Task 2 (20 pts)\n",
    "\n",
    "Generate random numbers from a probability distribution that looks like two triangles. \n",
    "The PDF f(x) is the following. Use the inverse CDF sampling method.\n",
    "* f(x) = 0 when x<0\n",
    "* f(x)= x/2 when 0<x<=1\n",
    "* f(x)= 1-x/2 when 1<x<=2\n",
    "* f(x)= 0 when 2<x<=3\n",
    "* f(x)= (x-3)/2 when 3<x<4\n",
    "* f(x)= (5-x)/2 when 4<x<5\n",
    "* f(x)= 0 when x>=5\n"
   ]
  },
  {
   "cell_type": "code",
   "execution_count": 6,
   "id": "c8aa1cca",
   "metadata": {
    "deletable": false,
    "nbgrader": {
     "cell_type": "code",
     "checksum": "1183d1c0deba4ac7c7d8d2e1d87279aa",
     "grade": true,
     "grade_id": "cell-15da3ad7914fbcff",
     "locked": false,
     "points": 0,
     "schema_version": 3,
     "solution": true,
     "task": false
    }
   },
   "outputs": [],
   "source": [
    "def generate_triangles(N):\n",
    "    \n",
    "    \"\"\" Return a numpy array with the length N with \n",
    "    random numbers following the distribution specified\n",
    "    \"\"\"\n",
    "    \n",
    "    \n",
    "    ys = np.random.uniform(size = N)\n",
    "    xs = ys*0\n",
    "\n",
    "    #CDF and inverse CDF calculated analytically\n",
    "    xs[(ys > 0) & (ys <= 0.25)] = 2*np.sqrt(ys[(ys >= 0) & (ys < 0.25)])\n",
    "\n",
    "    xs[(ys > 0.25) & (ys <= 0.5)] = 2 - np.sqrt(2 - 4*ys[(ys > 0.25) & (ys < 0.5)])\n",
    "\n",
    "    xs[(ys > 0.5) & (ys <= 0.75)] = 3 + np.sqrt(4*ys[(ys > 0.5) & (ys < 0.75)] - 2)\n",
    "\n",
    "    xs[(ys > 0.75) & (ys < 1)] = 5 - 2*np.sqrt(1 - ys[(ys > 0.75) & (ys < 1)])\n",
    "    \n",
    "    \n",
    "    return xs"
   ]
  },
  {
   "cell_type": "code",
   "execution_count": 7,
   "id": "adb031e5",
   "metadata": {
    "deletable": false,
    "editable": false,
    "nbgrader": {
     "cell_type": "code",
     "checksum": "28610a70220182f35fa7129fb5a8cac3",
     "grade": true,
     "grade_id": "cell-1c23cb379bb25164",
     "locked": true,
     "points": 0,
     "schema_version": 3,
     "solution": false,
     "task": false
    }
   },
   "outputs": [
    {
     "data": {
      "image/png": "[encoded data removed]",
      "text/plain": [
       "<Figure size 432x288 with 1 Axes>"
      ]
     },
     "metadata": {
      "needs_background": "light"
     },
     "output_type": "display_data"
    }
   ],
   "source": [
    "# The code will be tested by this \n",
    "# the distribution of points should look like two triangles\n",
    "plt.hist(generate_triangles(100000), bins=200);"
   ]
  },
  {
   "cell_type": "markdown",
   "id": "61fa5064",
   "metadata": {
    "deletable": false,
    "editable": false,
    "nbgrader": {
     "cell_type": "markdown",
     "checksum": "d09045a90e5ffec3d21146daa84f495d",
     "grade": false,
     "grade_id": "cell-08472b87802d9f84",
     "locked": true,
     "schema_version": 3,
     "solution": false,
     "task": false
    }
   },
   "source": [
    "# Task 3 (20 pts)\n",
    "\n",
    "The motion of bodies in the Solar system can be described by the Kepler equation \n",
    "$$2 \\pi t/T = E - e \\sin(E)$$\n",
    "where e is orbit eccentricity, t is the time of observation, T is the orbital period. And E is the so-called eccentric anomaly. \n",
    "If you know the eccentric anomaly E (by solving numerically the previous equation) then the position of the body in the plane of the solar system can be described by \n",
    "$$x= a  (\\cos E -e) $$\n",
    "$$y= b \\sin E $$\n",
    "where a, b are the semi-major axis and semi-minor axis respectively.\n",
    "\n",
    "Your task is to write the function that determines the uncertainty on the position x given the time of observation (t), ecentricity (e), period (T), semi-major axis (a) and their uncertainties.\n",
    "You can assume that the eccentric anomaly E will be always between -1000 and 1000.\n",
    "We will verify that the errors are accurate to within 10%"
   ]
  },
  {
   "cell_type": "code",
   "execution_count": 8,
   "id": "a23d18b7",
   "metadata": {},
   "outputs": [],
   "source": [
    "def func_for_E(E, t, T, e):\n",
    "    \n",
    "    \"\"\"\n",
    "    Function required for Brents method of root finding where E is the variable and the rest of the values\n",
    "    are paramaters\n",
    "    \"\"\"\n",
    "    \n",
    "    return E - e*np.sin(E) - (2*np.pi*t)/(T)"
   ]
  },
  {
   "cell_type": "code",
   "execution_count": 9,
   "id": "944a72e0",
   "metadata": {
    "deletable": false,
    "nbgrader": {
     "cell_type": "code",
     "checksum": "5b7f9026bce3db3531aeab832b1d0196",
     "grade": true,
     "grade_id": "cell-409d2d8c0ae7f7cf",
     "locked": false,
     "points": 0,
     "schema_version": 3,
     "solution": true,
     "task": false
    }
   },
   "outputs": [],
   "source": [
    "def kepler_uncert(t=None, T=None, e=None, a=None, err_t=None, err_T=None, err_e=None, err_a=None):\n",
    "    \n",
    "    \"\"\"\n",
    "    Returns the value of the uncertainty on the x position of the solar system body. This is done by sampling the variables\n",
    "    from normal distributions with mean and width specified. Brents method was then used to create a random distribution\n",
    "    of eccentric anomalies which then allowed the error on x to be estimated. N is kept large to smooth over randomness\n",
    "    \"\"\"\n",
    "    \n",
    "    N = 1000000\n",
    "    \n",
    "    ts = np.random.normal(t, err_t, size=N)\n",
    "    Ts = np.random.normal(T, err_T, size=N)\n",
    "    es = np.random.normal(e, err_e, size=N)\n",
    "    As = np.random.normal(a, err_a, size=N)\n",
    "    \n",
    "\n",
    "    Es = np.zeros(N)\n",
    "    \n",
    "    for i in range(N):\n",
    "        \n",
    "        E = scopt.brentq(func_for_E, -1000, 1000, args = (ts[i], Ts[i], es[i]))\n",
    "        Es[i] = E\n",
    "    \n",
    "    x = As*(np.cos(Es) - es)\n",
    "    \n",
    "    \n",
    "    return np.std(x)"
   ]
  },
  {
   "cell_type": "code",
   "execution_count": 10,
   "id": "660068d5",
   "metadata": {
    "deletable": false,
    "editable": false,
    "nbgrader": {
     "cell_type": "code",
     "checksum": "26237775580e32f7dcd8d0fcb74c39e6",
     "grade": true,
     "grade_id": "cell-b374622347044204",
     "locked": true,
     "points": 0,
     "schema_version": 3,
     "solution": false,
     "task": false
    }
   },
   "outputs": [
    {
     "name": "stdout",
     "output_type": "stream",
     "text": [
      "0.3007071461822003\n",
      "0.10668203940336526\n"
     ]
    }
   ],
   "source": [
    "print(kepler_uncert(t=1, T=2, e=.5, a=3, err_t=1e-5, err_T=1e-4, err_e=1e-1, err_a=0.01))\n",
    "# This value should be close to 0.015\n",
    "\n",
    "print(kepler_uncert(t=3, T=4, e=.4, a=6, err_t=1e-4, err_T=1e-3, err_e=1e-2, err_a=0.02))\n",
    "# This should be close to 0.106\n"
   ]
  },
  {
   "cell_type": "code",
   "execution_count": 11,
   "id": "90a3bf8b",
   "metadata": {},
   "outputs": [
    {
     "name": "stdout",
     "output_type": "stream",
     "text": [
      "0.015288336491108096\n",
      "0.10675576842133418\n"
     ]
    }
   ],
   "source": [
    "print(kepler_uncert(t=1, T=2, e=.5, a=3, err_t=1e-5, err_T=1e-4, err_e=1e-3, err_a=0.01))\n",
    "# This value should be close to 0.015\n",
    "\n",
    "print(kepler_uncert(t=3, T=4, e=.4, a=6, err_t=1e-4, err_T=1e-3, err_e=1e-2, err_a=0.02))\n",
    "# This should be close to 0.106"
   ]
  },
  {
   "cell_type": "markdown",
   "id": "3dbd1541",
   "metadata": {
    "deletable": false,
    "editable": false,
    "nbgrader": {
     "cell_type": "markdown",
     "checksum": "4de329d071eec40fe89a1f2be3723606",
     "grade": false,
     "grade_id": "cell-87bfc105ba9092d6",
     "locked": true,
     "schema_version": 3,
     "solution": false,
     "task": false
    }
   },
   "source": [
    "# Task 4 (20 pts)\n",
    "\n",
    "# Fitting a periodic model to the data. \n",
    "\n",
    "In the input data ch2_task4.txt. we have repeated measurements from the instrument. \n",
    "The file has 3 columns. One is the time of observation, the second one is the measurement, and the third one is the uncertainty of the measurement. \n",
    "We have reasons to believe that the measurement periodically change with time, so we want to fit the dataset provided by a periodic model \n",
    "$$M(x) = A \\sin(2\\pi x/T) + B \\cos(2\\pi x/T) $$\n",
    "in order to determine the period T from the data. A,B,T are model parameters\n",
    "\n",
    "Assuming that we know that the period should be between 0.5 and 5, determine the best period describing the data with the accuracy of better than 0.1.\n",
    "\n",
    "Your function needs to return the tuple with the best period and bestmodel values\n",
    "\n",
    "Hint: Use linear regression to fit the periodic models for a grid of periods. Select the period providing the best fit."
   ]
  },
  {
   "cell_type": "code",
   "execution_count": 12,
   "id": "5f86208c",
   "metadata": {
    "deletable": false,
    "nbgrader": {
     "cell_type": "code",
     "checksum": "67ad97809be1a2577a1b4f81b72ca740",
     "grade": true,
     "grade_id": "cell-37dad26738d28bfe",
     "locked": false,
     "points": 0,
     "schema_version": 3,
     "solution": true,
     "task": false
    }
   },
   "outputs": [
    {
     "data": {
      "image/png": "[encoded data removed]",
      "text/plain": [
       "<Figure size 432x288 with 1 Axes>"
      ]
     },
     "metadata": {
      "needs_background": "light"
     },
     "output_type": "display_data"
    }
   ],
   "source": [
    "#Reads in the data\n",
    "T4_DATA = np.loadtxt('ch2_task4.txt')\n",
    "\n",
    "#Makes a plot of data with error bars\n",
    "plt.errorbar(T4_DATA[0], T4_DATA[1], T4_DATA[2], fmt='.', color = 'b')\n",
    "\n",
    "\n",
    "def findper():\n",
    "    \n",
    "    \"\"\"\n",
    "    \n",
    "    This function uses a linear regression method to find the best model to describe the data by fitting a period function.\n",
    "    A loop is done over a large number of values of the period and then a least squares method is used to determine the \n",
    "    best parameters for each period. \n",
    "    \n",
    "    The function returns the best model that minimises chi squared\n",
    "    \n",
    "    \"\"\"\n",
    "    \n",
    "    \n",
    "    X = T4_DATA[0]\n",
    "    Y = T4_DATA[1]\n",
    "    E = T4_DATA[2]\n",
    "    \n",
    "    \n",
    "    iterations = 100000\n",
    "    \n",
    "    Ts = np.linspace(0.5, 5, iterations)\n",
    "    N = len(X)\n",
    "        \n",
    "    Results = np.zeros((iterations,4))\n",
    "    \n",
    "    for T in Ts:\n",
    "        \n",
    "        i = np.where(Ts == T)\n",
    "        \n",
    "        A = np.zeros((N,2))\n",
    "        A[:, 0] = np.sin(2*np.pi*X/T)/E\n",
    "        A[:, 1] = np.cos(2*np.pi*X/T)/E\n",
    "    \n",
    "        res = scipy.linalg.lstsq(A, Y / E)\n",
    "    \n",
    "        param = res[0]\n",
    "        chisq = res[1]\n",
    "    \n",
    "        Results[i, 0] = T\n",
    "        Results[i, 1] = chisq\n",
    "        Results[i, 2] = param[0]\n",
    "        Results[i, 3] = param[1]\n",
    "    \n",
    "    min_index = np.argmin(Results[:,1])\n",
    "    BestModel = Results[min_index]\n",
    "    \n",
    "    bestp = BestModel[0]\n",
    "    bestA = BestModel[2]\n",
    "    bestB = BestModel[3]\n",
    "    \n",
    "    Y_best = bestA * np.sin(2*np.pi*X/bestp) + bestB * np.cos(2*np.pi*X/bestp)\n",
    "    \n",
    "    return bestp, Y_best\n"
   ]
  },
  {
   "cell_type": "code",
   "execution_count": 13,
   "id": "4ed2aa2f",
   "metadata": {
    "deletable": false,
    "editable": false,
    "nbgrader": {
     "cell_type": "code",
     "checksum": "b60b1e6d534db8162a7fa5bb8475a235",
     "grade": true,
     "grade_id": "cell-7aca6a3c20334962",
     "locked": true,
     "points": 0,
     "schema_version": 3,
     "solution": false,
     "task": false
    }
   },
   "outputs": [
    {
     "name": "stdout",
     "output_type": "stream",
     "text": [
      "BEST PERIOD 2.2010170101701014\n"
     ]
    },
    {
     "data": {
      "text/plain": [
       "[<matplotlib.lines.Line2D at 0x7fe8ebe35a30>]"
      ]
     },
     "execution_count": 13,
     "metadata": {},
     "output_type": "execute_result"
    },
    {
     "data": {
      "image/png": "[encoded data removed]",
      "text/plain": [
       "<Figure size 432x288 with 1 Axes>"
      ]
     },
     "metadata": {
      "needs_background": "light"
     },
     "output_type": "display_data"
    }
   ],
   "source": [
    "# Your code will be tested with this \n",
    "plt.errorbar(T4_DATA[0], T4_DATA[1], T4_DATA[2], fmt='.')\n",
    "bestp, bestmod = findper()\n",
    "print('BEST PERIOD', bestp)\n",
    "plt.plot(np.sort(T4_DATA[0]), bestmod[np.argsort(T4_DATA[0])])\n"
   ]
  },
  {
   "cell_type": "markdown",
   "id": "245fc5b8",
   "metadata": {
    "deletable": false,
    "editable": false,
    "nbgrader": {
     "cell_type": "markdown",
     "checksum": "7921b52cd562246fb7b44a5bd078d3cf",
     "grade": false,
     "grade_id": "cell-09a8097b0427727e",
     "locked": true,
     "schema_version": 3,
     "solution": false,
     "task": false
    }
   },
   "source": [
    "# Task 5 (20 pts)\n",
    "\n",
    "You are given a dataset from the particle physics experiment. \n",
    "In that experiment the number of particles are recorded in intervals of Energy.\n",
    "The dataset contains the array of those numbers and the center Energy of each bin/interval. \n",
    "We believe that the average number of particles in each bin could be described by  this model \n",
    "$$R(E) = A_1+ A_2 \\exp(A_3  E) + A_4  \\exp\n",
    "\\left( - \\frac{1}{2}\\frac{(E-A_5)^2}{A_6^2} \\right)$$\n",
    "\n",
    "where the first two terms are describing the background and the last term is a contribution from a decaying \n",
    "particle with the mean energy A5. This contribution creates a peak in the energy distribution. Your task is to measure A5.\n",
    "\n",
    "In the dataset you can assume that the number of particles in each bin is described by Poisson distribution with the rate described by the equantion above. You can assume that measurement of number of particles in each bin are independent from each other.\n",
    "\n",
    "Write the likelihood function and estimate the energy of the particle $A_5$ using maximum likelihood approach. \n",
    "Overplot your best model on top of the data and make sure it fits well. \n",
    "\n",
    "Determine the uncertainty of your measurement. Your function solve_task5() should return two numbers\n",
    "the estimate of the energy and its uncertainty. (If you don't know how to evaluate uncertainty, you can just return np.nan instead)"
   ]
  },
  {
   "cell_type": "code",
   "execution_count": 14,
   "id": "b030b7c9",
   "metadata": {
    "deletable": false,
    "editable": false,
    "nbgrader": {
     "cell_type": "code",
     "checksum": "4c9bb771b3f2b9f66f0111ef2d83064e",
     "grade": false,
     "grade_id": "cell-96dc53b94f47084b",
     "locked": true,
     "schema_version": 3,
     "solution": false,
     "task": false
    }
   },
   "outputs": [
    {
     "data": {
      "text/plain": [
       "Text(0, 0.5, 'Number of particles')"
      ]
     },
     "execution_count": 14,
     "metadata": {},
     "output_type": "execute_result"
    },
    {
     "data": {
      "image/png": "[encoded data removed]",
      "text/plain": [
       "<Figure size 432x288 with 1 Axes>"
      ]
     },
     "metadata": {
      "needs_background": "light"
     },
     "output_type": "display_data"
    }
   ],
   "source": [
    "T5_DATA = np.loadtxt('ch2_task5.txt', dtype=[('E', np.float64), ('N', int)])\n",
    "T5_DATA['E']\n",
    "T5_DATA['N']\n",
    "plt.plot(T5_DATA['E'], T5_DATA['N'], drawstyle='steps')\n",
    "plt.xlabel('Energy')\n",
    "plt.ylabel('Number of particles')"
   ]
  },
  {
   "cell_type": "code",
   "execution_count": 15,
   "id": "5e2a1bd8",
   "metadata": {},
   "outputs": [],
   "source": [
    "def like(p, E, N):\n",
    "    \n",
    "    \n",
    "    \"\"\"\n",
    "    Function that determines the negative log of the likelihood\n",
    "    \"\"\"\n",
    "    \n",
    "    \n",
    "    A1, A2, A3, A4, A5, A6 = p\n",
    "    \n",
    "    rate = A1 + A2 * np.exp(A3 * E) + A4 * np.exp(-((0.5)/(A6**2)) * (E - A5)**2)\n",
    "    P = scipy.stats.poisson(rate)\n",
    "    logp = np.log(P.pmf(N)).sum()\n",
    "    \n",
    "    \n",
    "    return -logp"
   ]
  },
  {
   "cell_type": "code",
   "execution_count": 16,
   "id": "1f6490af",
   "metadata": {},
   "outputs": [],
   "source": [
    "def fitting(X, p):\n",
    "    \n",
    "    \"\"\"\n",
    "    Fitting of the data\n",
    "    \"\"\"\n",
    "    \n",
    "    A1, A2, A3, A4, A5, A6 = p\n",
    "    \n",
    "    rate = A1 + A2 * np.exp(A3 * X) + A4 * np.exp(-((0.5)/(A6**2)) * (X - A5)**2)\n",
    "    \n",
    "    return rate"
   ]
  },
  {
   "cell_type": "code",
   "execution_count": 17,
   "id": "f49ca629",
   "metadata": {
    "deletable": false,
    "nbgrader": {
     "cell_type": "code",
     "checksum": "2eaf4d4a578e86b46390402017f93673",
     "grade": true,
     "grade_id": "cell-98749de728ce3694",
     "locked": false,
     "points": 0,
     "schema_version": 3,
     "solution": true,
     "task": false
    }
   },
   "outputs": [],
   "source": [
    "def solve_task5():\n",
    "    \n",
    "    \"\"\"\n",
    "    This function minimises the negative log likelihood in order to determine the best model to describe the data\n",
    "    It returns a plot of the data and fit as well as the value A5 with calculated error. \n",
    "    \"\"\"\n",
    "    \n",
    "    E = T5_DATA['E']\n",
    "    N = T5_DATA['N']\n",
    "\n",
    "\n",
    "    #The BFGS method was used as it provides an estimate of the hessian matrix\n",
    "    #From this, the errors could be estimated\n",
    "    #Initial guess was chosen by comparing the fit with data visually as well as trying to reduce the errors of the parameters\n",
    "    ret = scipy.optimize.minimize(like, [15, -2, -2, 40, 60, 3], args=(E, N,), method = 'BFGS')\n",
    "\n",
    "    plt.plot(E, N, drawstyle='steps', color = 'magenta')\n",
    "    plt.xlabel('Energy')\n",
    "    plt.ylabel('Number of particles')\n",
    "\n",
    "    plt.plot(E, fitting(E, ret['x']), color = 'blue')\n",
    "\n",
    "    A5_best = ret['x'][4]\n",
    "\n",
    "    A5_best_error = np.sqrt(np.diag(ret['hess_inv']))[4]\n",
    "    \n",
    "    return A5_best, A5_best_error "
   ]
  },
  {
   "cell_type": "code",
   "execution_count": 18,
   "id": "4bce7ce7",
   "metadata": {
    "deletable": false,
    "editable": false,
    "nbgrader": {
     "cell_type": "code",
     "checksum": "d61a3b5287a8fd8280860b2fa43374da",
     "grade": true,
     "grade_id": "cell-ffcc04bd9ef694c7",
     "locked": true,
     "points": 0,
     "schema_version": 3,
     "solution": false,
     "task": false
    }
   },
   "outputs": [
    {
     "data": {
      "image/png": "[encoded data removed]",
      "text/plain": [
       "<Figure size 432x288 with 1 Axes>"
      ]
     },
     "metadata": {
      "needs_background": "light"
     },
     "output_type": "display_data"
    }
   ],
   "source": [
    "bestval, bessterr = solve_task5()\n",
    "\n"
   ]
  },
  {
   "cell_type": "code",
   "execution_count": 19,
   "id": "3b278522",
   "metadata": {},
   "outputs": [
    {
     "name": "stdout",
     "output_type": "stream",
     "text": [
      "70.93548363694623\n",
      "0.19260341368587236\n"
     ]
    }
   ],
   "source": [
    "print (bestval)\n",
    "print (bessterr)"
   ]
  },
  {
   "cell_type": "code",
   "execution_count": null,
   "id": "d90df8c9",
   "metadata": {},
   "outputs": [],
   "source": []
  }
 ],
 "metadata": {
  "kernelspec": {
   "display_name": "Python 3 (ipykernel)",
   "language": "python",
   "name": "python3"
  },
  "language_info": {
   "codemirror_mode": {
    "name": "ipython",
    "version": 3
   },
   "file_extension": ".py",
   "mimetype": "text/x-python",
   "name": "python",
   "nbconvert_exporter": "python",
   "pygments_lexer": "ipython3",
   "version": "3.9.12"
  }
 },
 "nbformat": 4,
 "nbformat_minor": 5
}
