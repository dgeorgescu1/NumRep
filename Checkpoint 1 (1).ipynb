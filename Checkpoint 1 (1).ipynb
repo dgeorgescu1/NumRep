{
 "cells": [
  {
   "cell_type": "markdown",
   "id": "annoying-brunswick",
   "metadata": {
    "deletable": false,
    "editable": false,
    "nbgrader": {
     "cell_type": "markdown",
     "checksum": "3f2450b679a71955dfd046f29a1a53aa",
     "grade": false,
     "grade_id": "cell-7e6c8bd6940b47c7",
     "locked": true,
     "schema_version": 3,
     "solution": false,
     "task": false
    }
   },
   "source": [
    "# Checkpoint 1\n",
    "\n",
    "**Due: Tuesday, 18 October, 2022 at 11:00am BST**\n",
    "\n",
    "Total points: 100\n",
    "\n",
    "### Read This First\n",
    "1. Use the constants provided in the cells. Do not use your own constants.\n",
    "\n",
    "2. Wherever you see `raise NotImplementedError()`, remove that line and put your code there.\n",
    "\n",
    "3. Put the code that produces the output for a given task in the cell indicated. You are welcome to add as many cells as you like for imports, function definitions, variables, etc.\n",
    "\n",
    "4. Your notebook must run correctly when executed once from start to finish. Your notebook will be graded based on how it runs, not how it looks when you submit it. To test this, go to the *Kernel* menu and select *Restart & Run All*.\n",
    "\n",
    "5. Once you are happy with it, clear the output by selecting *Restart & Clear Output* from the *Kernel* menu.\n",
    "\n",
    "6. Submit through Noteable."
   ]
  },
  {
   "cell_type": "code",
   "execution_count": 1,
   "id": "extreme-moses",
   "metadata": {},
   "outputs": [],
   "source": [
    "from matplotlib import pyplot as plt\n",
    "%matplotlib inline\n",
    "import numpy as np\n",
    "import time"
   ]
  },
  {
   "cell_type": "code",
   "execution_count": 2,
   "id": "faced-stylus",
   "metadata": {},
   "outputs": [],
   "source": [
    "plt.rcParams['figure.figsize'] = (10, 6)\n",
    "plt.rcParams['font.size'] = 14"
   ]
  },
  {
   "cell_type": "markdown",
   "id": "eb38b78a",
   "metadata": {
    "deletable": false,
    "editable": false,
    "nbgrader": {
     "cell_type": "markdown",
     "checksum": "aeafacb6fc7a78c1c366051af9c5dc23",
     "grade": false,
     "grade_id": "cell-be0f30ea8f875921",
     "locked": true,
     "schema_version": 3,
     "solution": false,
     "task": false
    }
   },
   "source": [
    "# Problem 1 - 20 points\n",
    "\n",
    "## Interpolation\n",
    "You are given an array of x and y measurements that you need to interpolate on new locations.\n",
    "\n",
    "The file *ch1_1_data.txt* is a text file that contains two arrays of Xs and Ys in two rows that need to be interpolated. The file *ch1_1_test.txt* is a text file that contains an array of X values on which you need to evaluate the interpolated function.\n",
    "\n",
    "You will need to do the interpolation by chosing the best interpolation technique among linear interpolation, cubic splines and smoothing splines with different values of smoothing parameters.\n",
    "\n",
    "You need to write the code that\n",
    "\n",
    "* selects the best among different interpolation methods for a provided dataset.\n",
    "* returns the array of the results of evaluating the best interpolation method on the test dataset. Note, the returned array of interpolated Y values should correspond directly to the X values from the test file. That is, the first returned Y value should correspond to the first X value and so on.\n",
    "\n",
    "The resulting array will then be verified to provide a mean square error (MSE) with respect to the true values of **MSE < 0.1**, where\n",
    "\n",
    "$\n",
    "\\large\n",
    "\\begin{align}\n",
    "MSE = \\frac{1}{N} \\sum_{i=1}^{N} (y_{interp, i} - y_{true, i})^2.\n",
    "\\end{align}\n",
    "$"
   ]
  },
  {
   "cell_type": "code",
   "execution_count": 3,
   "id": "4e2a2892",
   "metadata": {},
   "outputs": [],
   "source": [
    "import scipy.interpolate"
   ]
  },
  {
   "cell_type": "code",
   "execution_count": 4,
   "id": "9efdcd80",
   "metadata": {},
   "outputs": [],
   "source": [
    "def evaluate_predictitions(x, y, s1, s2, s3):\n",
    "    \n",
    "    \"\"\"\n",
    "    This function tests the predictive abilities of the linear interpolation method, cubic splines method\n",
    "    and smoothing splines method for three different smoothing parameters. This is done by splitting the\n",
    "    data into 3 chunks and returning the mean square error for each of the interpolators\n",
    "    \"\"\"\n",
    "    \n",
    "    nsplit = 3 \n",
    "    N = len(x)\n",
    "    pos = np.arange(len(x))\n",
    "    \n",
    "    ret_lin = 0 \n",
    "    ret_cub = 0\n",
    "    ret_smo1 = 0\n",
    "    ret_smo2 = 0\n",
    "    ret_smo3 = 0\n",
    "    \n",
    "    for i in range(nsplit):\n",
    "        testsubset = pos%nsplit ==i\n",
    "        fitsubset = ~testsubset \n",
    "        curx = x[fitsubset]\n",
    "        cury = y[fitsubset]\n",
    "        testx = x[testsubset]\n",
    "        testy = y[testsubset]\n",
    "        \n",
    "        testx_clip = np.clip(testx, x[1], x[-2])\n",
    "        \n",
    "        Int_lin = scipy.interpolate.interp1d(curx, cury)\n",
    "        Int_cub = scipy.interpolate.CubicSpline(curx, cury)\n",
    "        Int_smo1 = scipy.interpolate.UnivariateSpline(curx, cury, s=s1)\n",
    "        Int_smo2 = scipy.interpolate.UnivariateSpline(curx, cury, s=s2)\n",
    "        Int_smo3 = scipy.interpolate.UnivariateSpline(curx, cury, s=s3)\n",
    "        \n",
    "        ret_lin = ret_lin + np.mean((Int_lin(testx_clip) - testy)**2)\n",
    "        ret_cub = ret_cub + np.mean((Int_cub(testx) - testy)**2)\n",
    "        ret_smo1 = ret_smo1 + np.mean((Int_smo1(testx) - testy)**2)\n",
    "        ret_smo2 = ret_smo2 + np.mean((Int_smo2(testx) - testy)**2)\n",
    "        ret_smo3 = ret_smo3 + np.mean((Int_smo3(testx) - testy)**2)\n",
    "        \n",
    "    ret_lin =ret_lin/nsplit\n",
    "    ret_cub =ret_cub/nsplit\n",
    "    ret_smo1 =ret_smo1/nsplit\n",
    "    ret_smo2 =ret_smo2/nsplit\n",
    "    ret_smo3 =ret_smo3/nsplit\n",
    "    \n",
    "    return ret_lin, ret_cub, ret_smo1, ret_smo2, ret_smo3"
   ]
  },
  {
   "cell_type": "code",
   "execution_count": 5,
   "id": "d42a76d9",
   "metadata": {},
   "outputs": [],
   "source": [
    "def interpolator(ind, x, y, xeval, s1, s2, s3):\n",
    "    \n",
    "    \"\"\"\n",
    "    This function will perform the linear interpolator depending on the indice given which is dependent \n",
    "    on which mean square error gives the lowest value\n",
    "    \"\"\"\n",
    "    \n",
    "    if ind == 0:\n",
    "        xevalclip = np.clip(xeval, x[1], x[-2])\n",
    "        \n",
    "        return (scipy.interpolate.interp1d(x,y)(xevalclip))\n",
    "    \n",
    "    \n",
    "    if ind == 1:\n",
    "        \n",
    "        return (scipy.interpolate.CubicSpline(x, y)(xeval))\n",
    "    \n",
    "    \n",
    "    if ind == 2:\n",
    "        \n",
    "        return (scipy.interpolate.UnivariateSpline(x, y, s=s1)(xeval))\n",
    "    \n",
    "    \n",
    "    if ind == 3:\n",
    "        \n",
    "        return (scipy.interpolate.UnivariateSpline(x, y, s=s2)(xeval))\n",
    "    \n",
    "    \n",
    "    if ind == 4:\n",
    "        \n",
    "        return scipy.interpolate.UnivariateSpline(x, y, s=s3)(xeval)"
   ]
  },
  {
   "cell_type": "code",
   "execution_count": 6,
   "id": "0430ec16",
   "metadata": {
    "deletable": false,
    "nbgrader": {
     "cell_type": "code",
     "checksum": "b67df89d1cdf222fc3ad91d82464fd67",
     "grade": false,
     "grade_id": "p1-answer",
     "locked": false,
     "schema_version": 3,
     "solution": true,
     "task": false
    }
   },
   "outputs": [],
   "source": [
    "def solve_task1():\n",
    "    \n",
    "    \"\"\"\n",
    "    This function selects the best interpolation method for the provided data out of the linear interpolation method, \n",
    "    cubic splines method and smoothing splines method for three different smoothing parameters. The smoothing \n",
    "    parameters are given as s1, s2, and s3 which can be chosen arbitrarily and can be changed. Function returns \n",
    "    the numpy array of interpolated values at the locations specified in ch1_1_test.txt\n",
    "    \"\"\"\n",
    "\n",
    "    #Reads the data\n",
    "    Data = np.loadtxt('ch1_1_data.txt')\n",
    "    x = Data[0]\n",
    "    y = Data[1]\n",
    "    xeval = np.loadtxt('ch1_1_test.txt')\n",
    "\n",
    "    #Sorts the data\n",
    "    ind1 = np.argsort(x)\n",
    "    xsort = x[ind1]\n",
    "    ysort = y[ind1]\n",
    "\n",
    "    #sorts the interpolation locations\n",
    "    ind2 = np.argsort(xeval)\n",
    "    xevalsort = xeval[ind2]\n",
    "\n",
    "    #3 chosen smoothing parameters\n",
    "    s1 = 2\n",
    "    s2 = 0.3\n",
    "    s3 = 0.01\n",
    "\n",
    "    #evaluates the msd and therefore most suitable interpolator \n",
    "    msd = evaluate_predictitions(xsort, ysort, s1, s2, s3)\n",
    "    msd_ind = np.argmin(msd)\n",
    "\n",
    "    #Does the interpolation\n",
    "    yevalsort = interpolator(msd_ind, xsort, ysort, xevalsort, s1, s2, s3)\n",
    "\n",
    "    #resorts the data so that Y values correspond directly to X values in test file\n",
    "    unsorted_ind = np.searchsorted(xevalsort, xeval)\n",
    "    yevalunsorted = yevalsort[unsorted_ind]\n",
    "\n",
    "    \n",
    "    return yevalunsorted"
   ]
  },
  {
   "cell_type": "markdown",
   "id": "fitting-collaboration",
   "metadata": {
    "deletable": false,
    "editable": false,
    "nbgrader": {
     "cell_type": "markdown",
     "checksum": "3ca88332f0c742cd8cfde4b64b449168",
     "grade": false,
     "grade_id": "cell-73904f7eb0cf0357",
     "locked": true,
     "schema_version": 3,
     "solution": false,
     "task": false
    }
   },
   "source": [
    "We will add tests to the cell below when grading."
   ]
  },
  {
   "cell_type": "code",
   "execution_count": 7,
   "id": "orange-incidence",
   "metadata": {
    "deletable": false,
    "editable": false,
    "nbgrader": {
     "cell_type": "code",
     "checksum": "4fd7f981553f9bc9e960a1eaa31e84c5",
     "grade": true,
     "grade_id": "p1-test",
     "locked": true,
     "points": 0,
     "schema_version": 3,
     "solution": false,
     "task": false
    }
   },
   "outputs": [
    {
     "name": "stdout",
     "output_type": "stream",
     "text": [
      "Testing, testing...\n"
     ]
    }
   ],
   "source": [
    "# This function will be tested with this \n",
    "# assert ( np.mean((solve_task1()- YTRUE )**2) < 0.1)\n",
    "\n",
    "print (\"Testing, testing...\")\n",
    "\n"
   ]
  },
  {
   "cell_type": "markdown",
   "id": "appropriate-arrival",
   "metadata": {
    "deletable": false,
    "editable": false,
    "nbgrader": {
     "cell_type": "markdown",
     "checksum": "f51367b5123ec1532067d7eca3760abe",
     "grade": false,
     "grade_id": "cell-6b2a06078effc715",
     "locked": true,
     "schema_version": 3,
     "solution": false,
     "task": false
    }
   },
   "source": [
    "# Problem 2 - 80 points\n",
    "\n",
    "This problem is divided into 5 tasks, worth the following point values:\n",
    "\n",
    "1. 20 points\n",
    "2. 15 points\n",
    "3. 15 points\n",
    "4. 20 points\n",
    "5. 10 points\n",
    "\n",
    "## The 1D time-independent Schrödinger equation\n",
    "\n",
    "In one dimension, the time-independent Schrödinger equation is given by\n",
    "\n",
    "$\n",
    "\\large\n",
    "\\begin{align}\n",
    "\\mathbf{H}\\ \\mathbf{\\Psi} = E\\ \\mathbf{\\Psi}\n",
    "\\end{align}\n",
    "$,\n",
    "\n",
    "where $\\mathbf{H}$ is the Hamiltonian. Here, $E$ and $\\mathbf{\\Psi}$ are the eigenvectors and eigenvalues of $\\mathbf{H}$, respectively. The Hamiltonian is expressed as\n",
    "\n",
    "$\n",
    "\\Large\n",
    "\\begin{align}\n",
    "H = -\\frac{\\hbar^2}{2m} \\nabla^2 + V(r),\n",
    "\\end{align}\n",
    "$\n",
    "\n",
    "where $V(r)$ is the electric potential energy, given by\n",
    "\n",
    "$\n",
    "\\Large\n",
    "\\begin{align}\n",
    "V(r) = -\\frac{e^{2}}{4 \\pi \\epsilon_{0} r}.\n",
    "\\end{align}\n",
    "$\n",
    "\n",
    "In matrix form, the Schrödinger equation is solved for N equally spaced values of r, such that r goes from ($r_{max}$/N) to $r_{max}$, where $r_{max} \\sim 1.5$ nm is a sensible choice. To turn the Schrödinger equation into a matrix, $\\textbf{V(r)}$ should be a diagonal matrix with the values of the potential at each r along the diagonal.\n",
    "\n",
    "For this problem, the constants for the above equations have been defined for you in the cell below. Please use these for your calculations.\n",
    "* $\\frac{\\hbar^{2}}{2m} = 0.0380998\\ nm^{2} eV$ (called `c1` below)\n",
    "* $\\frac{e^{2}}{4 \\pi \\epsilon_{0}} = 1.43996\\ nm\\ eV$ (called `c2` below)\n",
    "* $r_{0} = 0.0529177\\ nm$ (the Bhor radius, called `r0` below)\n",
    "* Planck constant $h = 6.62606896\\times10^{-34} J s$ (`h`)\n",
    "* Speed of light $c = 299792458\\ m/s$ (`c`)"
   ]
  },
  {
   "cell_type": "code",
   "execution_count": 8,
   "id": "frank-davis",
   "metadata": {},
   "outputs": [],
   "source": [
    "# Constants (use these)\n",
    "c1 = 0.0380998 # nm^2 eV\n",
    "c2 = 1.43996 # nm eV\n",
    "r0 = 0.0529177 # nm\n",
    "h  = 6.62606896e-34 # J s\n",
    "c  = 299792458. # m/s\n",
    "hc = 1239.8419 # eV nm"
   ]
  },
  {
   "cell_type": "markdown",
   "id": "happy-methodology",
   "metadata": {
    "deletable": false,
    "editable": false,
    "nbgrader": {
     "cell_type": "markdown",
     "checksum": "96bcb3e0765c26d6d181b60ffe488aab",
     "grade": false,
     "grade_id": "cell-268fb1e71c1478e4",
     "locked": true,
     "schema_version": 3,
     "solution": false,
     "task": false
    }
   },
   "source": [
    "# Task 1 - 20 points\n",
    "\n",
    "For this task, you will create the matrix representing $\\mathbf{H}$ and find the two lowest eigenvalues. These correspond to the two lowest energy levels of the Hydrogen atom.\n",
    "\n",
    "In the constants defined above, the theoretical values for the first two energy levels are given by\n",
    "\n",
    "$\n",
    "\\Large\n",
    "\\begin{align}\n",
    "e_{n} = \\frac{c_2}{2 r_0 n^2},\n",
    "\\end{align}\n",
    "$\n",
    "\n",
    "where $r_{0}$ is the Bhor radius, given by\n",
    "\n",
    "$\n",
    "\\Large\n",
    "\\begin{align}\n",
    "r_{0} = \\frac{4 \\pi \\epsilon_{0} \\hbar^{2}}{m e^{2}}.\n",
    "\\end{align}\n",
    "$\n",
    "\n",
    "In the cells below, write a function that creates a matrix representing the Hamiltonian and returns the two lowest eigenvalues. **This function should take a single argument, N, for the size of the matrix.**\n",
    "\n",
    "Use your function to determine the minimum value of N (within a factor of 2) required to compute the two lowest energy levels to within **0.05\\%** of the theoretical values. Print the values of the two energy levels and the error for each, where the error is $abs((E_{calc} - E_{theo}) / E_{theo})$. $E_{calc}$ is the calculated value and $E_{theo}$ is the theoretical value. **Note, your code should iteratively call your function while increasing N (e.g., doubling it each time) and stop when the desired error is reached. It is not sufficient to simply run the code at a single value of N that meets the criteria.**"
   ]
  },
  {
   "cell_type": "code",
   "execution_count": 9,
   "id": "35198dce",
   "metadata": {},
   "outputs": [],
   "source": [
    "from scipy import sparse\n",
    "from scipy.sparse import linalg as splinalg"
   ]
  },
  {
   "cell_type": "code",
   "execution_count": 10,
   "id": "individual-coverage",
   "metadata": {
    "deletable": false,
    "nbgrader": {
     "cell_type": "code",
     "checksum": "e87b1dd5ee5f2abdad0b56b410ec1114",
     "grade": false,
     "grade_id": "p2t1-answer",
     "locked": false,
     "schema_version": 3,
     "solution": true,
     "task": false
    }
   },
   "outputs": [],
   "source": [
    "def Schrodinger(N):\n",
    "    \n",
    "    \"\"\"\n",
    "    This function solves the schrodinger equation for N equally spaced values of r by using sparse matrices\n",
    "    and an eigensolving function\n",
    "    \"\"\"\n",
    "    \n",
    "    rmax = 1.5\n",
    "    separation = rmax/N\n",
    "\n",
    "    laplace_diagonals = [[np.repeat(-2, N)], [np.repeat(1, N-1)], [np.repeat(1, N-1)]]\n",
    "    laplace = sparse.diags(laplace_diagonals, [0, -1, 1], shape = (N,N))/(separation**2)\n",
    "\n",
    "    diagonal = np.linspace(separation, rmax, N)\n",
    "    diagonal = 1/diagonal\n",
    "    V_r = -c2*sparse.diags(diagonal, shape = (N,N))\n",
    "\n",
    "    SEqn = -c1*laplace + V_r\n",
    "\n",
    "    evals, evecs = splinalg.eigsh(SEqn, k = 2, which = 'SA')\n",
    "    \n",
    "    return evals"
   ]
  },
  {
   "cell_type": "code",
   "execution_count": 11,
   "id": "9b05d5f7",
   "metadata": {},
   "outputs": [
    {
     "name": "stdout",
     "output_type": "stream",
     "text": [
      "Minimum value of N:  1024\n",
      "Lowest energy value:  -13.595205200421239 eV and corresponding error:  0.0007680904548306994 eV\n",
      "Second lowest energy value:  -3.4007519652640354 eV and corresponding error:  0.0001946038931489703 eV\n"
     ]
    }
   ],
   "source": [
    "#Theoretical values of the energy levels\n",
    "e1_theo = -c2/(2*r0)\n",
    "e2_theo = -c2/(2*r0*4)\n",
    "\n",
    "#Starting N value\n",
    "N = 4\n",
    "\n",
    "#Start with arbitrarily large error  \n",
    "error1 = 10\n",
    "error2 = 10\n",
    "\n",
    "#While loop to stop when desired precision is reached\n",
    "while error1 and error2 > 5e-4:\n",
    "    \n",
    "    #Calculates the first and second energy levels\n",
    "    e1_calc = Schrodinger(N)[0]\n",
    "    e2_calc = Schrodinger(N)[1]\n",
    "    \n",
    "    #calculates the errors \n",
    "    error1 = abs((e1_calc - e1_theo)/e1_theo)\n",
    "    error2 = abs((e2_calc - e2_theo)/e2_theo)\n",
    "    N *= 2\n",
    "\n",
    "print (\"Minimum value of N: \", N)\n",
    "print(\"Lowest energy value: \", e1_calc, \"eV and corresponding error: \", error1, \"eV\")\n",
    "print(\"Second lowest energy value: \", e2_calc, \"eV and corresponding error: \", error2, \"eV\")"
   ]
  },
  {
   "cell_type": "markdown",
   "id": "piano-flashing",
   "metadata": {
    "deletable": false,
    "editable": false,
    "nbgrader": {
     "cell_type": "markdown",
     "checksum": "1dc54fc537b9404168fc707f6481e0c1",
     "grade": false,
     "grade_id": "cell-c1ac14c82e6bbffe",
     "locked": true,
     "schema_version": 3,
     "solution": false,
     "task": false
    }
   },
   "source": [
    "## Task 2 - 15 points\n",
    "\n",
    "Now, imagine the Coulomb law has a minor modification to it, and is now given by:\n",
    "\n",
    "$\n",
    "\\Large\n",
    "\\begin{align}\n",
    "F(r) = -\\frac{e^{2}}{4 \\pi \\epsilon_{0} r^{2}} \\left( \\frac{r}{r_{0}} \\right)^{\\alpha},\n",
    "\\end{align}\n",
    "$\n",
    "\n",
    "where $\\alpha = 0.01$ and $r_{0}$ is the Bhor radius, given by:\n",
    "\n",
    "$\n",
    "\\Large\n",
    "\\begin{align}\n",
    "r_{0} = \\frac{4 \\pi \\epsilon_{0} \\hbar^{2}}{m e^{2}}.\n",
    "\\end{align}\n",
    "$\n",
    "\n",
    "The electric potential is given by:\n",
    "\n",
    "$\n",
    "\\Large\n",
    "\\begin{align}\n",
    "V(r) = \\int_{r}^{\\infty} F(r^{\\prime}) dr^{\\prime}\n",
    "\\end{align}\n",
    "$\n",
    "\n",
    "Using the constants defined previously, write a function to calculate V(r) using the modified Coulomb law by numerically integrating the equation above. This function need only accept a single value of radius and not an entire array. Your function must agree with the analytical value to within $10^{-5}$ eV.\n",
    "\n",
    "Your function should go in the cell below using the template for `potential_numerical`.\n",
    "\n",
    "In another cell, make a plot of V(r) over the range of r values used in Task 1. Remember to label axes and show units."
   ]
  },
  {
   "cell_type": "code",
   "execution_count": 12,
   "id": "508b8867",
   "metadata": {},
   "outputs": [],
   "source": [
    "from scipy import integrate"
   ]
  },
  {
   "cell_type": "code",
   "execution_count": 13,
   "id": "44ae835b",
   "metadata": {},
   "outputs": [],
   "source": [
    "def CoulombForce(r, alpha):\n",
    "    \n",
    "    \n",
    "    return -c2*((r/r0)**alpha)/(r**2)"
   ]
  },
  {
   "cell_type": "code",
   "execution_count": 14,
   "id": "stunning-institute",
   "metadata": {
    "deletable": false,
    "nbgrader": {
     "cell_type": "code",
     "checksum": "4d52cec8ae58d94a6e020c8c5fc1d2c3",
     "grade": false,
     "grade_id": "p2t2-answer",
     "locked": false,
     "schema_version": 3,
     "solution": true,
     "task": false
    }
   },
   "outputs": [],
   "source": [
    "def potential_numerical(r, alpha):\n",
    "    \n",
    "    \"\"\"\n",
    "    Calculates the potential at r using integration technique\n",
    "    \"\"\"\n",
    "    \n",
    "    Area = integrate.quad(CoulombForce, r, np.inf, args = (alpha,))\n",
    "    \n",
    "    \n",
    "    return Area[0] "
   ]
  },
  {
   "cell_type": "markdown",
   "id": "female-methodology",
   "metadata": {
    "deletable": false,
    "editable": false,
    "nbgrader": {
     "cell_type": "markdown",
     "checksum": "bd30d690274cad5f6a29d6295448f9fe",
     "grade": false,
     "grade_id": "cell-c74656c6ee48b39e",
     "locked": true,
     "schema_version": 3,
     "solution": false,
     "task": false
    }
   },
   "source": [
    "The cell below will test your function for a few values of radius."
   ]
  },
  {
   "cell_type": "code",
   "execution_count": 15,
   "id": "known-stations",
   "metadata": {
    "deletable": false,
    "editable": false,
    "nbgrader": {
     "cell_type": "code",
     "checksum": "d35fbd28772bfd93f9785dc8ea3bd619",
     "grade": true,
     "grade_id": "p2t2-test",
     "locked": true,
     "points": 0,
     "schema_version": 3,
     "solution": false,
     "task": false
    }
   },
   "outputs": [],
   "source": [
    "def potential_exact(r, alpha):\n",
    "    return c2*np.power(r,alpha-1)*np.power(r0,-alpha) / (alpha-1)\n",
    "\n",
    "for my_r in np.linspace(0.01, 1, 100):\n",
    "    diff = abs(potential_numerical(my_r, 0.01) - potential_exact(my_r, 0.01))\n",
    "    assert(diff <= 1e-5)"
   ]
  },
  {
   "cell_type": "markdown",
   "id": "mechanical-polls",
   "metadata": {
    "deletable": false,
    "editable": false,
    "nbgrader": {
     "cell_type": "markdown",
     "checksum": "42d5815be4020709219ea0381c001931",
     "grade": false,
     "grade_id": "cell-484fe07f737ba396",
     "locked": true,
     "schema_version": 3,
     "solution": false,
     "task": false
    }
   },
   "source": [
    "Plot V(r) in the cell below."
   ]
  },
  {
   "cell_type": "code",
   "execution_count": 16,
   "id": "orange-robert",
   "metadata": {
    "deletable": false,
    "nbgrader": {
     "cell_type": "code",
     "checksum": "56bf09fd2364d6f3778647ec3a0fb3f9",
     "grade": false,
     "grade_id": "p2t2-plot",
     "locked": false,
     "schema_version": 3,
     "solution": true,
     "task": false
    }
   },
   "outputs": [
    {
     "data": {
      "image/png": "[encoded data removed]",
      "text/plain": [
       "<Figure size 720x432 with 1 Axes>"
      ]
     },
     "metadata": {
      "needs_background": "light"
     },
     "output_type": "display_data"
    }
   ],
   "source": [
    "# Plot V(r) here!\n",
    "\n",
    "N = 1024\n",
    "rmax = 1.5\n",
    "separation = rmax/N\n",
    "\n",
    "#Iterates over r values up to rmax and finds corresponding potential\n",
    "r_vals = np.linspace(separation, rmax, N)\n",
    "V_r_vals = []\n",
    "for my_r in np.linspace(separation, rmax, N):\n",
    "    V_r = potential_numerical(my_r, 0.01)\n",
    "    V_r_vals.append(V_r)\n",
    "\n",
    "plt.plot(r_vals, V_r_vals, 'm')\n",
    "plt.xlabel(\"r (nm) in log scale\")\n",
    "plt.ylabel(\"Potential V(r) (eV)\")\n",
    "plt.title(\"Coulomb Potential against r\")\n",
    "plt.xscale('log')"
   ]
  },
  {
   "cell_type": "markdown",
   "id": "iraqi-sweden",
   "metadata": {
    "deletable": false,
    "editable": false,
    "nbgrader": {
     "cell_type": "markdown",
     "checksum": "b17c3076fc959a0cd9e28c547d1da353",
     "grade": false,
     "grade_id": "cell-51caa9b5ace2e178",
     "locked": true,
     "schema_version": 3,
     "solution": false,
     "task": false
    }
   },
   "source": [
    "## Task 3 - 15 points\n",
    "\n",
    "Write a function to calculate the first 2 energy levels (eigenvalues of $H$) for $\\alpha = 0.01$ and print out the values in eV. The values must be accurate to 0.01 eV. Use the function template `calculate_energy_levels_modified` below for your function. It is fine to call functions you've already written. \n",
    "\n",
    "In the cell after, plot the difference $\\Delta E$ between the two lowest energy levels as a function of $\\alpha$ for $\\alpha = 0$ and $0.01$. Remember axes labels and units."
   ]
  },
  {
   "cell_type": "code",
   "execution_count": 17,
   "id": "incorporate-antarctica",
   "metadata": {
    "deletable": false,
    "nbgrader": {
     "cell_type": "code",
     "checksum": "ac452d547a6cbf4f6bfaa7469979501d",
     "grade": false,
     "grade_id": "p2t3-answer",
     "locked": false,
     "schema_version": 3,
     "solution": true,
     "task": false
    }
   },
   "outputs": [],
   "source": [
    "def calculate_energy_levels_modified(N, alpha):\n",
    "    \n",
    "    \"\"\"\n",
    "    Solves the schrodinger equation but now uses integration method to estimate the coulomb potential values\n",
    "    at a given value of alpha. Similarly uses sparse matrices and eigenvalue solver\n",
    "    \"\"\"\n",
    "    \n",
    "    rmax = 1.5\n",
    "    separation = rmax/N\n",
    "\n",
    "    laplace_diagonals = [[np.repeat(-2, N)], [np.repeat(1, N-1)], [np.repeat(1, N-1)]]\n",
    "    laplace = sparse.diags(laplace_diagonals, [0, -1, 1], shape = (N,N))/(separation**2)\n",
    "\n",
    "    diagonal = np.linspace(separation, rmax, N)\n",
    "\n",
    "    for r in diagonal:\n",
    "        V_r = potential_numerical(r, alpha)\n",
    "        index = np.where(diagonal == r)\n",
    "        diagonal[index] = V_r\n",
    "\n",
    "    V_r_m = sparse.diags(diagonal, shape = (N,N))\n",
    "\n",
    "    SEqn = -c1*laplace + V_r_m\n",
    "\n",
    "    evals, evecs = splinalg.eigsh(SEqn, k = 2, which = 'SA')\n",
    "    \n",
    "    return evals\n"
   ]
  },
  {
   "cell_type": "markdown",
   "id": "universal-joining",
   "metadata": {
    "deletable": false,
    "editable": false,
    "nbgrader": {
     "cell_type": "markdown",
     "checksum": "af2c8383193c38fb3c7f82c7085f3c86",
     "grade": false,
     "grade_id": "cell-210704ac6f4c83e7",
     "locked": true,
     "schema_version": 3,
     "solution": false,
     "task": false
    }
   },
   "source": [
    "The cell below will test your function against the correct values."
   ]
  },
  {
   "cell_type": "code",
   "execution_count": 18,
   "id": "welsh-salvation",
   "metadata": {
    "deletable": false,
    "editable": false,
    "nbgrader": {
     "cell_type": "code",
     "checksum": "f55faa3b17e7995df7ec2e75ca4032b8",
     "grade": true,
     "grade_id": "p2t3-test",
     "locked": true,
     "points": 0,
     "schema_version": 3,
     "solution": false,
     "task": false
    }
   },
   "outputs": [],
   "source": [
    "N = 1024\n",
    "alpha = 0.01\n",
    "E1, E2 = calculate_energy_levels_modified(N, alpha)"
   ]
  },
  {
   "cell_type": "code",
   "execution_count": 19,
   "id": "8b64dce8",
   "metadata": {},
   "outputs": [
    {
     "name": "stdout",
     "output_type": "stream",
     "text": [
      "For alpha = 0.01\n",
      "The lowest energy level is:  -13.805103845838696 eV\n",
      "The second lowest energy level is:  -3.5344766180655482 eV\n"
     ]
    }
   ],
   "source": [
    "print (\"For alpha = 0.01\")\n",
    "print (\"The lowest energy level is: \", E1, \"eV\")\n",
    "print (\"The second lowest energy level is: \", E2, \"eV\")"
   ]
  },
  {
   "cell_type": "markdown",
   "id": "tracked-nation",
   "metadata": {
    "deletable": false,
    "editable": false,
    "nbgrader": {
     "cell_type": "markdown",
     "checksum": "a810a756c3652313db6100ada7066804",
     "grade": false,
     "grade_id": "cell-936bf792ceef031b",
     "locked": true,
     "schema_version": 3,
     "solution": false,
     "task": false
    }
   },
   "source": [
    "In the cell below, make the plot of $\\Delta E$ vs. $\\alpha$ as instructed above."
   ]
  },
  {
   "cell_type": "code",
   "execution_count": 20,
   "id": "secure-breakdown",
   "metadata": {
    "deletable": false,
    "nbgrader": {
     "cell_type": "code",
     "checksum": "84aa6f9312979323b057cd11c96edc71",
     "grade": false,
     "grade_id": "p2t3-plot",
     "locked": false,
     "schema_version": 3,
     "solution": true,
     "task": false
    }
   },
   "outputs": [
    {
     "data": {
      "text/plain": [
       "Text(0.5, 1.0, 'Energy separation between lowest and second lowest levels')"
      ]
     },
     "execution_count": 20,
     "metadata": {},
     "output_type": "execute_result"
    },
    {
     "data": {
      "image/png": "[encoded data removed]",
      "text/plain": [
       "<Figure size 720x432 with 1 Axes>"
      ]
     },
     "metadata": {
      "needs_background": "light"
     },
     "output_type": "display_data"
    }
   ],
   "source": [
    "# YOUR CODE HERE\n",
    "\n",
    "N = 1024\n",
    "\n",
    "alpha_vals = np.array([0, 0.01])\n",
    "Delta_E = []\n",
    "\n",
    "#Performs method for alpha = 0, and alpha = 0.01\n",
    "for alpha in alpha_vals:\n",
    "    E1, E2 = calculate_energy_levels_modified(N, alpha)\n",
    "    Delta_E.append(E2 - E1)\n",
    "\n",
    "plt.plot(alpha_vals, Delta_E, 'g')\n",
    "plt.xlabel(\"alpha\")\n",
    "plt.ylabel(\"Delta E (eV)\")\n",
    "plt.title(\"Energy separation between lowest and second lowest levels\")"
   ]
  },
  {
   "cell_type": "markdown",
   "id": "white-newport",
   "metadata": {
    "deletable": false,
    "editable": false,
    "nbgrader": {
     "cell_type": "markdown",
     "checksum": "7ceda21370e789097d65085703bc2ab2",
     "grade": false,
     "grade_id": "cell-5cb872bbd2dc8c06",
     "locked": true,
     "schema_version": 3,
     "solution": false,
     "task": false
    }
   },
   "source": [
    "## Task 4 - 20 points\n",
    "\n",
    "The transition between the 1st and 2nd states is known as the Lyman-$\\alpha$ transition. The photon emitted by this transition will have a wavelength, $\\lambda$, given by\n",
    "\n",
    "$\n",
    "\\Large\n",
    "\\begin{align}\n",
    "\\lambda = \\frac{hc}{\\Delta E}.\n",
    "\\end{align}\n",
    "$\n",
    "\n",
    "Imagine the wavelength of this transition has been measured as $\\lambda = 121.5 \\pm 0.1$ nm. What is the maximum value of $\\alpha > 0$ consistent with this measurement (i.e., the largest $\\alpha$ such that the predicted and measured wavelengths differ by less than 0.1 nm)?\n",
    "\n",
    "Using the template `find_alpha_max`, write a function that performs the above computation and returns the value of $\\alpha_{max}$. Your value for $\\alpha_{max}$ should be within 1% of the correct answer."
   ]
  },
  {
   "cell_type": "code",
   "execution_count": 21,
   "id": "c2ef56d3",
   "metadata": {},
   "outputs": [],
   "source": [
    "import scipy.optimize as opt"
   ]
  },
  {
   "cell_type": "code",
   "execution_count": 22,
   "id": "16f2e610",
   "metadata": {},
   "outputs": [],
   "source": [
    "def func(alpha):\n",
    "    \n",
    "    \"\"\"\n",
    "    Function to be put into brents method. This takes in alpha and performs the entire integration\n",
    "    method and solves the schrodinger equation with the specific value of alpha\n",
    "    \"\"\"\n",
    "    \n",
    "    E1, E2 = calculate_energy_levels_modified(1024, alpha)\n",
    "    D_E = E2 - E1\n",
    "    \n",
    "    \n",
    "    return hc/D_E - 121.4\n",
    "    \n",
    "    "
   ]
  },
  {
   "cell_type": "code",
   "execution_count": 23,
   "id": "inappropriate-depth",
   "metadata": {
    "deletable": false,
    "nbgrader": {
     "cell_type": "code",
     "checksum": "9b5e5df0ada7feae010cb7634e95befb",
     "grade": false,
     "grade_id": "p2t4-answer",
     "locked": false,
     "schema_version": 3,
     "solution": true,
     "task": false
    }
   },
   "outputs": [],
   "source": [
    "def find_alpha_max():\n",
    "\n",
    "    \"\"\"\n",
    "    Finds the root using Brents method \n",
    "    \"\"\"\n",
    "    \n",
    "    alpha_max = opt.brentq(func, 0, 0.01)\n",
    "    \n",
    "    \n",
    "    return alpha_max"
   ]
  },
  {
   "cell_type": "markdown",
   "id": "several-observation",
   "metadata": {
    "deletable": false,
    "editable": false,
    "nbgrader": {
     "cell_type": "markdown",
     "checksum": "029d9bb4ad970a0f3b58166038c981a4",
     "grade": false,
     "grade_id": "cell-12251fe279fb41cb",
     "locked": true,
     "schema_version": 3,
     "solution": false,
     "task": false
    }
   },
   "source": [
    "The cell below will run your function. You will not be told the correct answer."
   ]
  },
  {
   "cell_type": "code",
   "execution_count": 24,
   "id": "curious-limit",
   "metadata": {
    "deletable": false,
    "editable": false,
    "nbgrader": {
     "cell_type": "code",
     "checksum": "8967ce8a95ea408dc7dd43bb3154f106",
     "grade": true,
     "grade_id": "p2t4-test",
     "locked": true,
     "points": 0,
     "schema_version": 3,
     "solution": false,
     "task": false
    }
   },
   "outputs": [
    {
     "name": "stdout",
     "output_type": "stream",
     "text": [
      "alpha_max = 0.0016279327199646514.\n"
     ]
    }
   ],
   "source": [
    "amax = find_alpha_max()\n",
    "print (f\"alpha_max = {amax}.\")"
   ]
  },
  {
   "cell_type": "markdown",
   "id": "respiratory-nickname",
   "metadata": {
    "deletable": false,
    "editable": false,
    "nbgrader": {
     "cell_type": "markdown",
     "checksum": "8c427e3cc4396532e582db4fa871d3e6",
     "grade": false,
     "grade_id": "cell-79ad889c43725b88",
     "locked": true,
     "schema_version": 3,
     "solution": false,
     "task": false
    }
   },
   "source": [
    "## Task 5 - 10 points\n",
    "\n",
    "Knowing the shape of the matrix for of $\\textbf{H}$, is it possible to greatly increase the accuracy of the energy level calculation without a significant increase in computation time? In the cell below, write a function to compute the first two energy levels using the original (unmodified) potential. Your function should run in 15 seconds or less and compute the first two energy levels each to within an accuracy of $5\\times10^{-6}$."
   ]
  },
  {
   "cell_type": "code",
   "execution_count": 25,
   "id": "loaded-detective",
   "metadata": {
    "deletable": false,
    "nbgrader": {
     "cell_type": "code",
     "checksum": "eb0ea8a77bee6538ed6e282f3593c6f8",
     "grade": false,
     "grade_id": "p2t5-answer",
     "locked": false,
     "schema_version": 3,
     "solution": true,
     "task": false
    }
   },
   "outputs": [],
   "source": [
    "def calculate_energy_levels_super():\n",
    "    \n",
    "    \"\"\"\n",
    "    Solves the schrodinger equation and finds the eigenvalues similar to previous task. This time eigsh function uses \n",
    "    shift-invert mode and finds just the two closest eigenvalues near sigma = -14 \n",
    "    \"\"\"\n",
    "    \n",
    "    N = 32384\n",
    "    rmax = 1.5\n",
    "    separation = rmax/N\n",
    "\n",
    "    laplace_diagonals = [[np.repeat(-2, N)], [np.repeat(1, N-1)], [np.repeat(1, N-1)]]\n",
    "    laplace = sparse.diags(laplace_diagonals, [0, -1, 1], shape = (N,N))/(separation**2)\n",
    "\n",
    "    diagonal = np.linspace(separation, rmax, N)\n",
    "    diagonal = 1/diagonal\n",
    "    V_r = -c2*sparse.diags(diagonal, shape = (N,N))\n",
    "\n",
    "    SEqn = -c1*laplace + V_r\n",
    "\n",
    "    evals, evecs = splinalg.eigsh(SEqn, k = 2, sigma = -14, which = 'LA')\n",
    "    \n",
    "    return evals"
   ]
  },
  {
   "cell_type": "code",
   "execution_count": 26,
   "id": "statistical-validity",
   "metadata": {
    "deletable": false,
    "editable": false,
    "nbgrader": {
     "cell_type": "code",
     "checksum": "9ef37861d20b1722978a1fa5ec9b7b72",
     "grade": true,
     "grade_id": "p2t5-test",
     "locked": true,
     "points": 0,
     "schema_version": 3,
     "solution": false,
     "task": false
    }
   },
   "outputs": [
    {
     "name": "stdout",
     "output_type": "stream",
     "text": [
      "Calculation took 0.3992326259613037 seconds.\n",
      "Err1 = 3.193027054660152e-06, Err2 = 3.164690940770083e-06.\n"
     ]
    }
   ],
   "source": [
    "t1 = time.time()\n",
    "my_e1, my_e2 = calculate_energy_levels_super()\n",
    "t2 = time.time()\n",
    "print (f\"Calculation took {t2-t1} seconds.\")\n",
    "\n",
    "e1_th = -c2 / (2 * r0)\n",
    "e2_th = e1_th / 4\n",
    "\n",
    "er1 = abs((my_e1 - e1_th) / e1_th)\n",
    "er2 = abs((my_e2 - e2_th) / e2_th)\n",
    "print (f\"Err1 = {er1}, Err2 = {er2}.\")"
   ]
  }
 ],
 "metadata": {
  "kernelspec": {
   "display_name": "Python 3 (ipykernel)",
   "language": "python",
   "name": "python3"
  },
  "language_info": {
   "codemirror_mode": {
    "name": "ipython",
    "version": 3
   },
   "file_extension": ".py",
   "mimetype": "text/x-python",
   "name": "python",
   "nbconvert_exporter": "python",
   "pygments_lexer": "ipython3",
   "version": "3.9.12"
  }
 },
 "nbformat": 4,
 "nbformat_minor": 5
}
